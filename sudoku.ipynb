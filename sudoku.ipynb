{
 "cells": [
  {
   "cell_type": "code",
   "execution_count": 10,
   "id": "95ef687b",
   "metadata": {},
   "outputs": [],
   "source": [
    "import random\n",
    "import copy"
   ]
  },
  {
   "cell_type": "code",
   "execution_count": 11,
   "id": "efc9921c",
   "metadata": {},
   "outputs": [],
   "source": [
    "def display_sudoku_grid(grid):\n",
    "    for row_idx, row in enumerate(grid):\n",
    "        if row_idx % 3 == 0 and row_idx != 0:\n",
    "            print(\"-\" * 21)\n",
    "        row_str = \"\"\n",
    "        for col_idx, num in enumerate(row):\n",
    "            if col_idx % 3 == 0 and col_idx != 0:\n",
    "                row_str += \" | \"\n",
    "            row_str += f\"{num if num != 0 else '.'} \"\n",
    "        print(row_str)\n"
   ]
  },
  {
   "cell_type": "code",
   "execution_count": 12,
   "id": "636a34f3",
   "metadata": {},
   "outputs": [],
   "source": [
    "def is_valid_move(grid, row, col, num):\n",
    "    if num in grid[row]:\n",
    "        return False\n",
    "    if num in [grid[i][col] for i in range(9)]:\n",
    "        return False\n",
    "    start_row, start_col = row - row % 3, col - col % 3\n",
    "    for i in range(3):\n",
    "        for j in range(3):\n",
    "            if grid[start_row + i][start_col + j] == num:\n",
    "                return False\n",
    "    return True"
   ]
  },
  {
   "cell_type": "code",
   "execution_count": null,
   "id": "4f00d3ad",
   "metadata": {},
   "outputs": [],
   "source": [
    "def solve_sudoku(grid):\n",
    "    for row in range(9):\n",
    "        for col in range(9):\n",
    "            if grid[row][col] == 0:\n",
    "                nums = list(range(1, 10))\n",
    "                random.shuffle(nums)  \n",
    "                for num in nums:\n",
    "                    if is_valid_move(grid, row, col, num):\n",
    "                        grid[row][col] = num\n",
    "                        if solve_sudoku(grid):\n",
    "                            return True\n",
    "                        grid[row][col] = 0\n",
    "                return False\n",
    "    return True"
   ]
  },
  {
   "cell_type": "code",
   "execution_count": 14,
   "id": "1daf8e74",
   "metadata": {},
   "outputs": [],
   "source": [
    "def generate_full_sudoku():\n",
    "    grid = [[0 for _ in range(9)] for _ in range(9)]\n",
    "    solve_sudoku(grid)\n",
    "    return grid\n"
   ]
  },
  {
   "cell_type": "code",
   "execution_count": 15,
   "id": "cb51179f",
   "metadata": {},
   "outputs": [],
   "source": [
    "def make_puzzle(grid, num_holes=40):\n",
    "    puzzle = copy.deepcopy(grid)\n",
    "    count = 0\n",
    "    while count < num_holes:\n",
    "        row = random.randint(0, 8)\n",
    "        col = random.randint(0, 8)\n",
    "        if puzzle[row][col] != 0:\n",
    "            puzzle[row][col] = 0\n",
    "            count += 1\n",
    "    return puzzle"
   ]
  },
  {
   "cell_type": "code",
   "execution_count": 16,
   "id": "8a4c02eb",
   "metadata": {},
   "outputs": [
    {
     "name": "stdout",
     "output_type": "stream",
     "text": [
      "🔧 Generating full Sudoku...\n",
      "\n",
      "🎯 Creating puzzle (partially removed cells)...\n",
      "\n",
      "🧩 Sudoku Puzzle:\n",
      ". . 2  | 5 1 7  | 3 . . \n",
      "5 . 4  | . 9 .  | . 1 7 \n",
      "7 . .  | 2 4 3  | . 6 8 \n",
      "---------------------\n",
      ". 9 5  | . . 8  | . . 1 \n",
      "2 4 1  | 9 3 5  | . 8 . \n",
      "6 . .  | . . .  | 9 . . \n",
      "---------------------\n",
      ". 2 .  | . 5 .  | . . 4 \n",
      ". . 3  | 4 8 .  | 6 . . \n",
      ". 5 8  | 7 6 .  | . . 3 \n"
     ]
    }
   ],
   "source": [
    "print(\"🔧 Generating full Sudoku...\")\n",
    "full_grid = generate_full_sudoku()\n",
    "\n",
    "print(\"\\n🎯 Creating puzzle (partially removed cells)...\")\n",
    "puzzle_grid = make_puzzle(full_grid, num_holes=40)\n",
    "\n",
    "print(\"\\n🧩 Sudoku Puzzle:\")\n",
    "display_sudoku_grid(puzzle_grid)"
   ]
  },
  {
   "cell_type": "code",
   "execution_count": 17,
   "id": "d4508c2f",
   "metadata": {},
   "outputs": [
    {
     "name": "stdout",
     "output_type": "stream",
     "text": [
      "\n",
      "🤖 Solving puzzle...\n",
      "\n",
      "✅ Solved Sudoku:\n",
      "8 6 2  | 5 1 7  | 3 4 9 \n",
      "5 3 4  | 8 9 6  | 2 1 7 \n",
      "7 1 9  | 2 4 3  | 5 6 8 \n",
      "---------------------\n",
      "3 9 5  | 6 7 8  | 4 2 1 \n",
      "2 4 1  | 9 3 5  | 7 8 6 \n",
      "6 8 7  | 1 2 4  | 9 3 5 \n",
      "---------------------\n",
      "1 2 6  | 3 5 9  | 8 7 4 \n",
      "9 7 3  | 4 8 1  | 6 5 2 \n",
      "4 5 8  | 7 6 2  | 1 9 3 \n"
     ]
    }
   ],
   "source": [
    "print(\"\\n🤖 Solving puzzle...\")\n",
    "solved_grid = copy.deepcopy(puzzle_grid)\n",
    "if solve_sudoku(solved_grid):\n",
    "    print(\"\\n✅ Solved Sudoku:\")\n",
    "    display_sudoku_grid(solved_grid)\n",
    "else:\n",
    "    print(\"❌ Could not solve the puzzle.\")"
   ]
  }
 ],
 "metadata": {
  "kernelspec": {
   "display_name": "Python 3",
   "language": "python",
   "name": "python3"
  },
  "language_info": {
   "codemirror_mode": {
    "name": "ipython",
    "version": 3
   },
   "file_extension": ".py",
   "mimetype": "text/x-python",
   "name": "python",
   "nbconvert_exporter": "python",
   "pygments_lexer": "ipython3",
   "version": "3.13.0"
  }
 },
 "nbformat": 4,
 "nbformat_minor": 5
}
